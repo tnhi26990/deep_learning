{
 "cells": [
  {
   "cell_type": "code",
   "execution_count": 4,
   "metadata": {
    "colab": {
     "base_uri": "https://localhost:8080/"
    },
    "id": "lHaqvurswFZ3",
    "outputId": "52a6b4a3-40e0-489b-afea-4b12b5049d56"
   },
   "outputs": [],
   "source": [
    "# Import Tensorflow 2.0\n",
    "import tensorflow as tf"
   ]
  },
  {
   "cell_type": "code",
   "execution_count": 5,
   "metadata": {
    "id": "L2tmkfqWwNNe"
   },
   "outputs": [],
   "source": [
    "#Install some dependencies for visualizing the agents\n",
    "#!apt-get install -y xvfb python-opengl x11-utils &> /dev/null\n",
    "#!pip install gym pyvirtualdisplay scikit-video ffio pyrender &> /dev/null\n",
    "#!pip install tensorflow_probability==0.12.0 &> /dev/null\n",
    "import os\n",
    "os.environ['PYOPENGL_PLATFORM'] = 'egl'\n",
    "\n",
    "import numpy as np\n",
    "import matplotlib, cv2\n",
    "import matplotlib.pyplot as plt\n",
    "import base64, io, os, time, gym\n",
    "import IPython, functools\n",
    "import time\n",
    "from tqdm import tqdm\n",
    "#import tensorflow_probability as tfp\n",
    "\n",
    "import mitdeeplearning as mdl"
   ]
  },
  {
   "cell_type": "code",
   "execution_count": 6,
   "metadata": {
    "colab": {
     "base_uri": "https://localhost:8080/"
    },
    "id": "PLE4HLDWwPjj",
    "outputId": "2cbb3d26-bf2d-404d-d859-bc0c652c8c67"
   },
   "outputs": [
    {
     "data": {
      "text/plain": [
       "[1]"
      ]
     },
     "execution_count": 6,
     "metadata": {},
     "output_type": "execute_result"
    }
   ],
   "source": [
    "### Instantiate the Cartpole environment ###\n",
    "## use seed() to ensure the environment's random variables are initialized the same each time\n",
    "env = gym.make(\"CartPole-v1\")\n",
    "env.action_space.seed(1)\n",
    "env.observation_space.seed(1)"
   ]
  },
  {
   "cell_type": "code",
   "execution_count": 7,
   "metadata": {
    "colab": {
     "base_uri": "https://localhost:8080/"
    },
    "id": "Sa2V3IUPwSw7",
    "outputId": "6a59b3e1-e2bc-4e5d-da96-74591276bf40"
   },
   "outputs": [
    {
     "name": "stdout",
     "output_type": "stream",
     "text": [
      "Environment has observation space = Box([-4.8000002e+00 -3.4028235e+38 -4.1887903e-01 -3.4028235e+38], [4.8000002e+00 3.4028235e+38 4.1887903e-01 3.4028235e+38], (4,), float32)\n"
     ]
    }
   ],
   "source": [
    "n_observations = env.observation_space\n",
    "print(\"Environment has observation space =\", n_observations)"
   ]
  },
  {
   "cell_type": "code",
   "execution_count": 8,
   "metadata": {
    "colab": {
     "base_uri": "https://localhost:8080/"
    },
    "id": "kr3go_WewvfJ",
    "outputId": "8af71371-0e49-478c-aaee-b45cd67f00e3"
   },
   "outputs": [
    {
     "name": "stdout",
     "output_type": "stream",
     "text": [
      "Number of possible actions that the agent can choose from = 2\n"
     ]
    }
   ],
   "source": [
    "n_actions = env.action_space.n\n",
    "print(\"Number of possible actions that the agent can choose from =\", n_actions)"
   ]
  },
  {
   "cell_type": "code",
   "execution_count": 9,
   "metadata": {
    "id": "MIgNhOjBwxlQ"
   },
   "outputs": [],
   "source": [
    "### Define the Cartpole agent ###\n",
    "# A deep neural network defines the agent. \n",
    "# Defines a feed-forward neural network\n",
    "def create_cartpole_model():\n",
    "    model = tf.keras.Sequential([\n",
    "        tf.keras.layers.Dense(units=32, activation='relu'),\n",
    "        tf.keras.layers.Dense(units=n_actions, activation=None)\n",
    "    ])\n",
    "    return model\n",
    "cartpole_model = create_cartpole_model()"
   ]
  },
  {
   "cell_type": "code",
   "execution_count": 10,
   "metadata": {
    "id": "3VlZt5dywzwi"
   },
   "outputs": [],
   "source": [
    "### Define the agent's action function ###\n",
    "\n",
    "def choose_action(model, observation, single=True):\n",
    "    # Extract the observation array from the tuple\n",
    "    observation_array = observation[0] if isinstance(observation, tuple) else observation\n",
    "\n",
    "    # Print out the extracted observation array for debugging\n",
    "    print(f\"Extracted observation array: {observation_array}\")\n",
    "\n",
    "    # Ensure the observation is a NumPy array\n",
    "    observation_array = np.asarray(observation_array, dtype=np.float32)\n",
    "\n",
    "    # Check if the observation is already a flat array\n",
    "    if observation_array.ndim > 1:\n",
    "        # Flatten the observation if it's not already a 1D array\n",
    "        observation_array = observation_array.flatten()\n",
    "\n",
    "    if single:\n",
    "        observation_array = np.expand_dims(observation_array, axis=0)\n",
    "\n",
    "    # Feed the observations through the model to predict the log probabilities of each possible action\n",
    "    logits = model.predict(observation_array)\n",
    "\n",
    "    # Choose an action from the categorical distribution defined by the log\n",
    "    # probabilities of each possible action\n",
    "    action = tf.random.categorical(logits, num_samples=1)\n",
    "\n",
    "    action = action.numpy().flatten()\n",
    "\n",
    "    return action[0] if single else action"
   ]
  },
  {
   "cell_type": "code",
   "execution_count": 11,
   "metadata": {
    "id": "JyQUvG2Zw6G3"
   },
   "outputs": [],
   "source": [
    "### Agent Memory ###\n",
    "\n",
    "class Memory:\n",
    "    def __init__(self):\n",
    "        self.clear()\n",
    "\n",
    "  # Resets/restarts the memory buffer\n",
    "    def clear(self):\n",
    "        self.observations = []\n",
    "        self.actions = []\n",
    "        self.rewards = []\n",
    "\n",
    "  # Add observations, actions, rewards to memory\n",
    "    def add_to_memory(self, new_observation, new_action, new_reward):\n",
    "        self.observations.append(new_observation)\n",
    "\n",
    "        # update the list of actions with new action'''\n",
    "        self.actions.append(new_action)\n",
    "\n",
    "        # update the list of rewards with new reward'''\n",
    "        self.rewards.append(new_reward)\n",
    "\n",
    "    def __len__(self):\n",
    "        return len(self.actions)\n",
    "\n",
    "# Instantiate a single Memory buffer\n",
    "memory = Memory()"
   ]
  },
  {
   "cell_type": "code",
   "execution_count": null,
   "metadata": {
    "id": "44Pcoel6w82s"
   },
   "outputs": [],
   "source": [
    "### Reward function ###\n",
    "\n",
    "# Helper function that normalizes an np.array x\n",
    "def normalize(x):\n",
    "    # This centers the data around 0, so the mean of x is 0\n",
    "    x -= np.mean(x)\n",
    "    # Ensure that the std is always 1\n",
    "    x /= np.std(x)\n",
    "    return x.astype(np.float32)\n",
    "\n",
    "# Compute normalized, discounted, cumulative rewards (i.e., return)\n",
    "# Arguments:\n",
    "#   rewards: reward at timesteps in episode\n",
    "#   gamma: discounting factor\n",
    "# Returns:\n",
    "#   normalized discounted reward\n",
    "def discount_rewards(rewards, gamma=0.95):\n",
    "    discounted_rewards = np.zeros_like(rewards)\n",
    "    R = 0\n",
    "    for t in reversed(range(0, len(rewards))):\n",
    "        # update the total discounted reward\n",
    "        R = R * gamma + rewards[t]\n",
    "        discounted_rewards[t] = R\n",
    "\n",
    "    return normalize(discounted_rewards)"
   ]
  },
  {
   "cell_type": "code",
   "execution_count": null,
   "metadata": {
    "id": "M3I3IvMuw_U0"
   },
   "outputs": [],
   "source": [
    "### Loss function ###\n",
    "\n",
    "# Arguments:\n",
    "#   logits: network's predictions for actions to take\n",
    "#   actions: the actions the agent took in an episode\n",
    "#   rewards: the rewards the agent received in an episode\n",
    "# Returns:\n",
    "#   loss\n",
    "def compute_loss(logits, actions, rewards):\n",
    "    # complete the function call to compute the negative log probabilities\n",
    "    neg_logprob = tf.nn.sparse_softmax_cross_entropy_with_logits(\n",
    "        logits=logits, labels=actions)\n",
    "\n",
    "    # scale the negative log probability by the rewards\n",
    "    loss = tf.reduce_mean(neg_logprob * rewards)\n",
    "    return loss"
   ]
  },
  {
   "cell_type": "code",
   "execution_count": null,
   "metadata": {
    "id": "LPVzvdnCxBqo"
   },
   "outputs": [],
   "source": [
    "### Training step (forward and backpropagation) ###\n",
    "\n",
    "def train_step(model, loss_function, optimizer, observations, actions, discounted_rewards, custom_fwd_fn=None):\n",
    "    with tf.GradientTape() as tape:\n",
    "        # Forward propagate through the agent network\n",
    "        if custom_fwd_fn is not None:\n",
    "            prediction = custom_fwd_fn(observations)\n",
    "        else:\n",
    "            prediction = model(observations)\n",
    "\n",
    "        # call the compute_loss function to compute the loss'''\n",
    "        loss = loss_function(prediction, actions, discounted_rewards)\n",
    "\n",
    "    '''TODO: run backpropagation to minimize the loss using the tape.gradient method.\n",
    "             Unlike supervised learning, RL is *extremely* noisy, so you will benefit\n",
    "             from additionally clipping your gradients to avoid falling into\n",
    "             dangerous local minima. After computing your gradients try also clipping\n",
    "             by a global normalizer. Try different clipping values, usually clipping\n",
    "             between 0.5 and 5 provides reasonable results. '''\n",
    "    grads = tape.gradient(loss, model.trainable_variables)\n",
    "\n",
    "    grads, _ = tf.clip_by_global_norm(grads, 1)\n",
    "    optimizer.apply_gradients(zip(grads, model.trainable_variables))\n",
    "    return loss"
   ]
  },
  {
   "cell_type": "code",
   "execution_count": null,
   "metadata": {
    "id": "j8zRQDjZxEjB"
   },
   "outputs": [],
   "source": [
    "## Training parameters ##\n",
    "## Re-run this cell to restart training from scratch ##\n",
    "\n",
    "# TODO: Learning rate and optimizer\n",
    "learning_rate = 5e-3\n",
    "\n",
    "optimizer = tf.keras.optimizers.Adam(learning_rate)\n",
    "\n",
    "# instantiate cartpole agent\n",
    "cartpole_model = create_cartpole_model()\n",
    "\n",
    "# to track our progress\n",
    "smoothed_reward = mdl.util.LossHistory(smoothing_factor=0.95)\n",
    "plotter = mdl.util.PeriodicPlotter(sec=2, xlabel='Iterations', ylabel='Rewards')"
   ]
  },
  {
   "cell_type": "code",
   "execution_count": null,
   "metadata": {
    "colab": {
     "base_uri": "https://localhost:8080/",
     "height": 1000
    },
    "id": "8TowC89yxGs6",
    "outputId": "e173731a-e583-4a84-da1e-3f01c85c0fe9"
   },
   "outputs": [
    {
     "data": {
      "image/png": "[encoded data removed]",
      "text/plain": [
       "<Figure size 640x480 with 1 Axes>"
      ]
     },
     "metadata": {},
     "output_type": "display_data"
    },
    {
     "name": "stdout",
     "output_type": "stream",
     "text": [
      "Extracted observation array: [-0.00335903 -0.02577931  0.049447   -0.01036304]\n",
      "1/1 [==============================] - 0s 21ms/step\n",
      "Result of env.step(action): (array([-0.00387462, -0.22157425,  0.04923974,  0.2975019 ], dtype=float32), 1.0, False, {})\n",
      "Extracted observation array: [-0.00387462 -0.22157425  0.04923974  0.2975019 ]\n",
      "1/1 [==============================] - 0s 22ms/step\n",
      "Result of env.step(action): (array([-0.0083061 , -0.02718752,  0.05518978,  0.02074585], dtype=float32), 1.0, False, {})\n",
      "Extracted observation array: [-0.0083061  -0.02718752  0.05518978  0.02074585]\n",
      "1/1 [==============================] - 0s 21ms/step\n",
      "Result of env.step(action): (array([-0.00884985, -0.22305574,  0.0556047 ,  0.3303184 ], dtype=float32), 1.0, False, {})\n",
      "Extracted observation array: [-0.00884985 -0.22305574  0.0556047   0.3303184 ]\n",
      "1/1 [==============================] - 0s 21ms/step\n",
      "Result of env.step(action): (array([-0.01331097, -0.02876759,  0.06221107,  0.05567596], dtype=float32), 1.0, False, {})\n",
      "Extracted observation array: [-0.01331097 -0.02876759  0.06221107  0.05567596]\n",
      "1/1 [==============================] - 0s 20ms/step\n",
      "Result of env.step(action): (array([-0.01388632, -0.22472383,  0.06332459,  0.36731997], dtype=float32), 1.0, False, {})\n",
      "Extracted observation array: [-0.01388632 -0.22472383  0.06332459  0.36731997]\n",
      "1/1 [==============================] - 0s 22ms/step\n",
      "Result of env.step(action): (array([-0.01838079, -0.42068577,  0.07067098,  0.67927873], dtype=float32), 1.0, False, {})\n",
      "Extracted observation array: [-0.01838079 -0.42068577  0.07067098  0.67927873]\n",
      "1/1 [==============================] - 0s 26ms/step\n",
      "Result of env.step(action): (array([-0.02679451, -0.226613  ,  0.08425656,  0.40965617], dtype=float32), 1.0, False, {})\n",
      "Extracted observation array: [-0.02679451 -0.226613    0.08425656  0.40965617]\n",
      "1/1 [==============================] - 0s 20ms/step\n",
      "Result of env.step(action): (array([-0.03132677, -0.03278036,  0.09244969,  0.14468078], dtype=float32), 1.0, False, {})\n",
      "Extracted observation array: [-0.03132677 -0.03278036  0.09244969  0.14468078]\n",
      "1/1 [==============================] - 0s 20ms/step\n",
      "Result of env.step(action): (array([-0.03198238, -0.22909632,  0.0953433 ,  0.46503872], dtype=float32), 1.0, False, {})\n",
      "Extracted observation array: [-0.03198238 -0.22909632  0.0953433   0.46503872]\n",
      "1/1 [==============================] - 0s 33ms/step\n",
      "Result of env.step(action): (array([-0.0365643 , -0.0354418 ,  0.10464408,  0.2038647 ], dtype=float32), 1.0, False, {})\n",
      "Extracted observation array: [-0.0365643  -0.0354418   0.10464408  0.2038647 ]\n",
      "1/1 [==============================] - 0s 24ms/step\n",
      "Result of env.step(action): (array([-0.03727314,  0.1580401 ,  0.10872137, -0.05406136], dtype=float32), 1.0, False, {})\n",
      "Extracted observation array: [-0.03727314  0.1580401   0.10872137 -0.05406136]\n",
      "1/1 [==============================] - 0s 20ms/step\n",
      "Result of env.step(action): (array([-0.03411234,  0.35144877,  0.10764014, -0.3105603 ], dtype=float32), 1.0, False, {})\n",
      "Extracted observation array: [-0.03411234  0.35144877  0.10764014 -0.3105603 ]\n",
      "1/1 [==============================] - 0s 19ms/step\n",
      "Result of env.step(action): (array([-0.02708336,  0.15497105,  0.10142893,  0.01403573], dtype=float32), 1.0, False, {})\n",
      "Extracted observation array: [-0.02708336  0.15497105  0.10142893  0.01403573]\n",
      "1/1 [==============================] - 0s 23ms/step\n",
      "Result of env.step(action): (array([-0.02398394,  0.34850314,  0.10170965, -0.24500144], dtype=float32), 1.0, False, {})\n",
      "Extracted observation array: [-0.02398394  0.34850314  0.10170965 -0.24500144]\n",
      "1/1 [==============================] - 0s 23ms/step\n",
      "Result of env.step(action): (array([-0.01701388,  0.5420364 ,  0.09680962, -0.50395   ], dtype=float32), 1.0, False, {})\n",
      "Extracted observation array: [-0.01701388  0.5420364   0.09680962 -0.50395   ]\n",
      "1/1 [==============================] - 0s 19ms/step\n",
      "Result of env.step(action): (array([-0.00617315,  0.7356702 ,  0.08673062, -0.7646231 ], dtype=float32), 1.0, False, {})\n",
      "Extracted observation array: [-0.00617315  0.7356702   0.08673062 -0.7646231 ]\n",
      "1/1 [==============================] - 0s 19ms/step\n",
      "Result of env.step(action): (array([ 0.00854026,  0.5394678 ,  0.07143816, -0.4459588 ], dtype=float32), 1.0, False, {})\n",
      "Extracted observation array: [ 0.00854026  0.5394678   0.07143816 -0.4459588 ]\n",
      "1/1 [==============================] - 0s 19ms/step\n",
      "Result of env.step(action): (array([ 0.01932961,  0.7335102 ,  0.06251898, -0.7152951 ], dtype=float32), 1.0, False, {})\n",
      "Extracted observation array: [ 0.01932961  0.7335102   0.06251898 -0.7152951 ]\n",
      "1/1 [==============================] - 0s 20ms/step\n",
      "Result of env.step(action): (array([ 0.03399982,  0.53758115,  0.04821308, -0.403607  ], dtype=float32), 1.0, False, {})\n",
      "Extracted observation array: [ 0.03399982  0.53758115  0.04821308 -0.403607  ]\n",
      "1/1 [==============================] - 0s 19ms/step\n",
      "Result of env.step(action): (array([ 0.04475144,  0.34180972,  0.04014094, -0.096122  ], dtype=float32), 1.0, False, {})\n",
      "Extracted observation array: [ 0.04475144  0.34180972  0.04014094 -0.096122  ]\n",
      "1/1 [==============================] - 0s 22ms/step\n",
      "Result of env.step(action): (array([0.05158763, 0.14613613, 0.0382185 , 0.20895022], dtype=float32), 1.0, False, {})\n",
      "Extracted observation array: [0.05158763 0.14613613 0.0382185  0.20895022]\n",
      "1/1 [==============================] - 0s 20ms/step\n",
      "Result of env.step(action): (array([ 0.05451035,  0.34069136,  0.04239751, -0.07143599], dtype=float32), 1.0, False, {})\n",
      "Extracted observation array: [ 0.05451035  0.34069136  0.04239751 -0.07143599]\n",
      "1/1 [==============================] - 0s 19ms/step\n",
      "Result of env.step(action): (array([ 0.06132418,  0.5351806 ,  0.04096879, -0.3504466 ], dtype=float32), 1.0, False, {})\n",
      "Extracted observation array: [ 0.06132418  0.5351806   0.04096879 -0.3504466 ]\n",
      "1/1 [==============================] - 0s 25ms/step\n",
      "Result of env.step(action): (array([ 0.0720278 ,  0.33950073,  0.03395985, -0.04513158], dtype=float32), 1.0, False, {})\n",
      "Extracted observation array: [ 0.0720278   0.33950073  0.03395985 -0.04513158]\n",
      "1/1 [==============================] - 0s 27ms/step\n",
      "Result of env.step(action): (array([0.07881781, 0.14390866, 0.03305722, 0.2580696 ], dtype=float32), 1.0, False, {})\n",
      "Extracted observation array: [0.07881781 0.14390866 0.03305722 0.2580696 ]\n",
      "1/1 [==============================] - 0s 20ms/step\n",
      "Result of env.step(action): (array([ 0.08169598,  0.33854347,  0.03821861, -0.02400603], dtype=float32), 1.0, False, {})\n",
      "Extracted observation array: [ 0.08169598  0.33854347  0.03821861 -0.02400603]\n",
      "1/1 [==============================] - 0s 23ms/step\n",
      "Result of env.step(action): (array([ 0.08846685,  0.5330971 ,  0.03773849, -0.3043898 ], dtype=float32), 1.0, False, {})\n",
      "Extracted observation array: [ 0.08846685  0.5330971   0.03773849 -0.3043898 ]\n",
      "1/1 [==============================] - 0s 22ms/step\n",
      "Result of env.step(action): (array([ 9.9128790e-02,  3.3745819e-01,  3.1650700e-02, -4.7954683e-05],\n",
      "      dtype=float32), 1.0, False, {})\n",
      "Extracted observation array: [ 9.9128790e-02  3.3745819e-01  3.1650700e-02 -4.7954683e-05]\n",
      "1/1 [==============================] - 0s 21ms/step\n",
      "Result of env.step(action): (array([0.10587796, 0.14189698, 0.03164974, 0.30245075], dtype=float32), 1.0, False, {})\n",
      "Extracted observation array: [0.10587796 0.14189698 0.03164974 0.30245075]\n",
      "1/1 [==============================] - 0s 22ms/step\n",
      "Result of env.step(action): (array([0.1087159 , 0.33655387, 0.03769875, 0.01991506], dtype=float32), 1.0, False, {})\n",
      "Extracted observation array: [0.1087159  0.33655387 0.03769875 0.01991506]\n",
      "1/1 [==============================] - 0s 19ms/step\n",
      "Result of env.step(action): (array([ 0.11544698,  0.5311155 ,  0.03809705, -0.26063916], dtype=float32), 1.0, False, {})\n",
      "Extracted observation array: [ 0.11544698  0.5311155   0.03809705 -0.26063916]\n",
      "1/1 [==============================] - 0s 26ms/step\n",
      "Result of env.step(action): (array([0.12606928, 0.33547097, 0.03288427, 0.04381246], dtype=float32), 1.0, False, {})\n",
      "Extracted observation array: [0.12606928 0.33547097 0.03288427 0.04381246]\n",
      "1/1 [==============================] - 0s 24ms/step\n",
      "Result of env.step(action): (array([0.1327787 , 0.1398933 , 0.03376052, 0.34668663], dtype=float32), 1.0, False, {})\n",
      "Extracted observation array: [0.1327787  0.1398933  0.03376052 0.34668663]\n",
      "1/1 [==============================] - 0s 22ms/step\n",
      "Result of env.step(action): (array([0.13557658, 0.33451918, 0.04069426, 0.06483787], dtype=float32), 1.0, False, {})\n",
      "Extracted observation array: [0.13557658 0.33451918 0.04069426 0.06483787]\n",
      "1/1 [==============================] - 0s 22ms/step\n",
      "Result of env.step(action): (array([0.14226696, 0.13883811, 0.04199101, 0.37007725], dtype=float32), 1.0, False, {})\n",
      "Extracted observation array: [0.14226696 0.13883811 0.04199101 0.37007725]\n",
      "1/1 [==============================] - 0s 25ms/step\n",
      "Result of env.step(action): (array([0.14504372, 0.3333391 , 0.04939255, 0.0909247 ], dtype=float32), 1.0, False, {})\n",
      "Extracted observation array: [0.14504372 0.3333391  0.04939255 0.0909247 ]\n",
      "1/1 [==============================] - 0s 24ms/step\n",
      "Result of env.step(action): (array([ 0.1517105 ,  0.52771956,  0.05121105, -0.18577491], dtype=float32), 1.0, False, {})\n",
      "Extracted observation array: [ 0.1517105   0.52771956  0.05121105 -0.18577491]\n",
      "1/1 [==============================] - 0s 27ms/step\n",
      "Result of env.step(action): (array([0.16226488, 0.33190373, 0.04749555, 0.12261326], dtype=float32), 1.0, False, {})\n",
      "Extracted observation array: [0.16226488 0.33190373 0.04749555 0.12261326]\n",
      "1/1 [==============================] - 0s 26ms/step\n",
      "Result of env.step(action): (array([ 0.16890296,  0.52631414,  0.04994782, -0.15471512], dtype=float32), 1.0, False, {})\n",
      "Extracted observation array: [ 0.16890296  0.52631414  0.04994782 -0.15471512]\n",
      "1/1 [==============================] - 0s 21ms/step\n",
      "Result of env.step(action): (array([0.17942925, 0.33051395, 0.04685352, 0.15329747], dtype=float32), 1.0, False, {})\n",
      "Extracted observation array: [0.17942925 0.33051395 0.04685352 0.15329747]\n",
      "1/1 [==============================] - 0s 19ms/step\n",
      "Result of env.step(action): (array([ 0.18603952,  0.5249348 ,  0.04991946, -0.12424388], dtype=float32), 1.0, False, {})\n",
      "Extracted observation array: [ 0.18603952  0.5249348   0.04991946 -0.12424388]\n",
      "1/1 [==============================] - 0s 21ms/step\n",
      "Result of env.step(action): (array([ 0.19653822,  0.71930736,  0.04743459, -0.4007693 ], dtype=float32), 1.0, False, {})\n",
      "Extracted observation array: [ 0.19653822  0.71930736  0.04743459 -0.4007693 ]\n",
      "1/1 [==============================] - 0s 21ms/step\n",
      "Result of env.step(action): (array([ 0.21092437,  0.9137255 ,  0.0394192 , -0.67812794], dtype=float32), 1.0, False, {})\n",
      "Extracted observation array: [ 0.21092437  0.9137255   0.0394192  -0.67812794]\n",
      "1/1 [==============================] - 0s 22ms/step\n",
      "Result of env.step(action): (array([ 0.22919887,  0.71807873,  0.02585664, -0.3732995 ], dtype=float32), 1.0, False, {})\n",
      "Extracted observation array: [ 0.22919887  0.71807873  0.02585664 -0.3732995 ]\n",
      "1/1 [==============================] - 0s 23ms/step\n",
      "Result of env.step(action): (array([ 0.24356045,  0.91282403,  0.01839065, -0.6577188 ], dtype=float32), 1.0, False, {})\n",
      "Extracted observation array: [ 0.24356045  0.91282403  0.01839065 -0.6577188 ]\n",
      "1/1 [==============================] - 0s 21ms/step\n",
      "Result of env.step(action): (array([ 0.26181695,  0.717451  ,  0.00523628, -0.35930222], dtype=float32), 1.0, False, {})\n",
      "Extracted observation array: [ 0.26181695  0.717451    0.00523628 -0.35930222]\n",
      "1/1 [==============================] - 0s 22ms/step\n",
      "Result of env.step(action): (array([ 0.27616596,  0.522255  , -0.00194977, -0.06497278], dtype=float32), 1.0, False, {})\n",
      "Extracted observation array: [ 0.27616596  0.522255   -0.00194977 -0.06497278]\n",
      "1/1 [==============================] - 0s 33ms/step\n",
      "Result of env.step(action): (array([ 0.28661105,  0.71740484, -0.00324922, -0.35827023], dtype=float32), 1.0, False, {})\n",
      "Extracted observation array: [ 0.28661105  0.71740484 -0.00324922 -0.35827023]\n",
      "1/1 [==============================] - 0s 30ms/step\n",
      "Result of env.step(action): (array([ 0.30095914,  0.5223292 , -0.01041463, -0.06661363], dtype=float32), 1.0, False, {})\n",
      "Extracted observation array: [ 0.30095914  0.5223292  -0.01041463 -0.06661363]\n",
      "1/1 [==============================] - 0s 24ms/step\n",
      "Result of env.step(action): (array([ 0.31140575,  0.7175989 , -0.0117469 , -0.36256415], dtype=float32), 1.0, False, {})\n",
      "Extracted observation array: [ 0.31140575  0.7175989  -0.0117469  -0.36256415]\n",
      "1/1 [==============================] - 0s 27ms/step\n",
      "Result of env.step(action): (array([ 0.3257577 ,  0.5226459 , -0.01899818, -0.07360828], dtype=float32), 1.0, False, {})\n",
      "Extracted observation array: [ 0.3257577   0.5226459  -0.01899818 -0.07360828]\n",
      "1/1 [==============================] - 0s 26ms/step\n",
      "Result of env.step(action): (array([ 0.33621064,  0.718035  , -0.02047035, -0.37222415], dtype=float32), 1.0, False, {})\n",
      "Extracted observation array: [ 0.33621064  0.718035   -0.02047035 -0.37222415]\n",
      "1/1 [==============================] - 0s 20ms/step\n",
      "Result of env.step(action): (array([ 0.35057133,  0.52320975, -0.02791483, -0.08606536], dtype=float32), 1.0, False, {})\n",
      "Extracted observation array: [ 0.35057133  0.52320975 -0.02791483 -0.08606536]\n",
      "1/1 [==============================] - 0s 20ms/step\n",
      "Result of env.step(action): (array([ 0.36103553,  0.3284988 , -0.02963614,  0.19768134], dtype=float32), 1.0, False, {})\n",
      "Extracted observation array: [ 0.36103553  0.3284988  -0.02963614  0.19768134]\n",
      "1/1 [==============================] - 0s 21ms/step\n",
      "Result of env.step(action): (array([ 0.3676055 ,  0.5240318 , -0.02568251, -0.10420117], dtype=float32), 1.0, False, {})\n",
      "Extracted observation array: [ 0.3676055   0.5240318  -0.02568251 -0.10420117]\n",
      "1/1 [==============================] - 0s 19ms/step\n",
      "Result of env.step(action): (array([ 0.37808615,  0.32928717, -0.02776654,  0.18026966], dtype=float32), 1.0, False, {})\n",
      "Extracted observation array: [ 0.37808615  0.32928717 -0.02776654  0.18026966]\n",
      "1/1 [==============================] - 0s 22ms/step\n",
      "Result of env.step(action): (array([ 0.38467187,  0.52479523, -0.02416114, -0.12104169], dtype=float32), 1.0, False, {})\n",
      "Extracted observation array: [ 0.38467187  0.52479523 -0.02416114 -0.12104169]\n",
      "1/1 [==============================] - 0s 19ms/step\n",
      "Result of env.step(action): (array([ 0.3951678 ,  0.72025484, -0.02658198, -0.42124826], dtype=float32), 1.0, False, {})\n",
      "Extracted observation array: [ 0.3951678   0.72025484 -0.02658198 -0.42124826]\n",
      "1/1 [==============================] - 0s 21ms/step\n",
      "Result of env.step(action): (array([ 0.40957287,  0.9157432 , -0.03500694, -0.7221913 ], dtype=float32), 1.0, False, {})\n",
      "Extracted observation array: [ 0.40957287  0.9157432  -0.03500694 -0.7221913 ]\n",
      "1/1 [==============================] - 0s 20ms/step\n",
      "Result of env.step(action): (array([ 0.42788774,  0.72112244, -0.04945077, -0.44072905], dtype=float32), 1.0, False, {})\n",
      "Extracted observation array: [ 0.42788774  0.72112244 -0.04945077 -0.44072905]\n",
      "1/1 [==============================] - 0s 20ms/step\n",
      "Result of env.step(action): (array([ 0.44231018,  0.52673393, -0.05826535, -0.1640353 ], dtype=float32), 1.0, False, {})\n",
      "Extracted observation array: [ 0.44231018  0.52673393 -0.05826535 -0.1640353 ]\n",
      "1/1 [==============================] - 0s 20ms/step\n",
      "Result of env.step(action): (array([ 0.4528449 ,  0.7226395 , -0.06154605, -0.47451526], dtype=float32), 1.0, False, {})\n",
      "Extracted observation array: [ 0.4528449   0.7226395  -0.06154605 -0.47451526]\n",
      "1/1 [==============================] - 0s 35ms/step\n",
      "Result of env.step(action): (array([ 0.46729767,  0.5284382 , -0.07103636, -0.20184802], dtype=float32), 1.0, False, {})\n",
      "Extracted observation array: [ 0.46729767  0.5284382  -0.07103636 -0.20184802]\n",
      "1/1 [==============================] - 0s 24ms/step\n",
      "Result of env.step(action): (array([ 0.47786644,  0.7245004 , -0.07507332, -0.51606673], dtype=float32), 1.0, False, {})\n",
      "Extracted observation array: [ 0.47786644  0.7245004  -0.07507332 -0.51606673]\n",
      "1/1 [==============================] - 0s 25ms/step\n",
      "Result of env.step(action): (array([ 0.49235645,  0.53051144, -0.08539465, -0.24795373], dtype=float32), 1.0, False, {})\n",
      "Extracted observation array: [ 0.49235645  0.53051144 -0.08539465 -0.24795373]\n",
      "1/1 [==============================] - 0s 22ms/step\n",
      "Result of env.step(action): (array([ 0.50296664,  0.33670628, -0.09035373,  0.01661919], dtype=float32), 1.0, False, {})\n",
      "Extracted observation array: [ 0.50296664  0.33670628 -0.09035373  0.01661919]\n",
      "1/1 [==============================] - 0s 19ms/step\n",
      "Result of env.step(action): (array([ 0.5097008 ,  0.53300005, -0.09002134, -0.30314824], dtype=float32), 1.0, False, {})\n",
      "Extracted observation array: [ 0.5097008   0.53300005 -0.09002134 -0.30314824]\n",
      "1/1 [==============================] - 0s 20ms/step\n",
      "Result of env.step(action): (array([ 0.52036077,  0.33926865, -0.09608431, -0.04015842], dtype=float32), 1.0, False, {})\n",
      "Extracted observation array: [ 0.52036077  0.33926865 -0.09608431 -0.04015842]\n",
      "1/1 [==============================] - 0s 22ms/step\n",
      "Result of env.step(action): (array([ 0.52714616,  0.14564647, -0.09688748,  0.22072989], dtype=float32), 1.0, False, {})\n",
      "Extracted observation array: [ 0.52714616  0.14564647 -0.09688748  0.22072989]\n",
      "1/1 [==============================] - 0s 22ms/step\n"
     ]
    },
    {
     "ename": "KeyboardInterrupt",
     "evalue": "",
     "output_type": "error",
     "traceback": [
      "\u001b[0;31m---------------------------------------------------------------------------\u001b[0m",
      "\u001b[0;31mKeyboardInterrupt\u001b[0m                         Traceback (most recent call last)",
      "\u001b[0;32m<ipython-input-16-f8d64fa788ad>\u001b[0m in \u001b[0;36m<cell line: 7>\u001b[0;34m()\u001b[0m\n\u001b[1;32m     14\u001b[0m     \u001b[0;32mwhile\u001b[0m \u001b[0;32mTrue\u001b[0m\u001b[0;34m:\u001b[0m\u001b[0;34m\u001b[0m\u001b[0;34m\u001b[0m\u001b[0m\n\u001b[1;32m     15\u001b[0m         \u001b[0;31m# using our observation, choose an action and take it in the environment\u001b[0m\u001b[0;34m\u001b[0m\u001b[0;34m\u001b[0m\u001b[0m\n\u001b[0;32m---> 16\u001b[0;31m         \u001b[0maction\u001b[0m \u001b[0;34m=\u001b[0m \u001b[0mchoose_action\u001b[0m\u001b[0;34m(\u001b[0m\u001b[0mcartpole_model\u001b[0m\u001b[0;34m,\u001b[0m \u001b[0mobservation\u001b[0m\u001b[0;34m)\u001b[0m\u001b[0;34m\u001b[0m\u001b[0;34m\u001b[0m\u001b[0m\n\u001b[0m\u001b[1;32m     17\u001b[0m         \u001b[0mresult\u001b[0m \u001b[0;34m=\u001b[0m \u001b[0menv\u001b[0m\u001b[0;34m.\u001b[0m\u001b[0mstep\u001b[0m\u001b[0;34m(\u001b[0m\u001b[0maction\u001b[0m\u001b[0;34m)\u001b[0m\u001b[0;34m\u001b[0m\u001b[0;34m\u001b[0m\u001b[0m\n\u001b[1;32m     18\u001b[0m         \u001b[0mprint\u001b[0m\u001b[0;34m(\u001b[0m\u001b[0;34mf\"Result of env.step(action): {result}\"\u001b[0m\u001b[0;34m)\u001b[0m\u001b[0;34m\u001b[0m\u001b[0;34m\u001b[0m\u001b[0m\n",
      "\u001b[0;32m<ipython-input-9-1f62620be552>\u001b[0m in \u001b[0;36mchoose_action\u001b[0;34m(model, observation, single)\u001b[0m\n\u001b[1;32m     26\u001b[0m     \u001b[0maction\u001b[0m \u001b[0;34m=\u001b[0m \u001b[0mtf\u001b[0m\u001b[0;34m.\u001b[0m\u001b[0mrandom\u001b[0m\u001b[0;34m.\u001b[0m\u001b[0mcategorical\u001b[0m\u001b[0;34m(\u001b[0m\u001b[0mlogits\u001b[0m\u001b[0;34m,\u001b[0m \u001b[0mnum_samples\u001b[0m\u001b[0;34m=\u001b[0m\u001b[0;36m1\u001b[0m\u001b[0;34m)\u001b[0m\u001b[0;34m\u001b[0m\u001b[0;34m\u001b[0m\u001b[0m\n\u001b[1;32m     27\u001b[0m \u001b[0;34m\u001b[0m\u001b[0m\n\u001b[0;32m---> 28\u001b[0;31m     \u001b[0maction\u001b[0m \u001b[0;34m=\u001b[0m \u001b[0maction\u001b[0m\u001b[0;34m.\u001b[0m\u001b[0mnumpy\u001b[0m\u001b[0;34m(\u001b[0m\u001b[0;34m)\u001b[0m\u001b[0;34m.\u001b[0m\u001b[0mflatten\u001b[0m\u001b[0;34m(\u001b[0m\u001b[0;34m)\u001b[0m\u001b[0;34m\u001b[0m\u001b[0;34m\u001b[0m\u001b[0m\n\u001b[0m\u001b[1;32m     29\u001b[0m \u001b[0;34m\u001b[0m\u001b[0m\n\u001b[1;32m     30\u001b[0m     \u001b[0;32mreturn\u001b[0m \u001b[0maction\u001b[0m\u001b[0;34m[\u001b[0m\u001b[0;36m0\u001b[0m\u001b[0;34m]\u001b[0m \u001b[0;32mif\u001b[0m \u001b[0msingle\u001b[0m \u001b[0;32melse\u001b[0m \u001b[0maction\u001b[0m\u001b[0;34m\u001b[0m\u001b[0;34m\u001b[0m\u001b[0m\n",
      "\u001b[0;32m/usr/local/lib/python3.10/dist-packages/tensorflow/python/framework/ops.py\u001b[0m in \u001b[0;36mnumpy\u001b[0;34m(self)\u001b[0m\n\u001b[1;32m    392\u001b[0m     \"\"\"\n\u001b[1;32m    393\u001b[0m     \u001b[0;31m# TODO(slebedev): Consider avoiding a copy for non-CPU or remote tensors.\u001b[0m\u001b[0;34m\u001b[0m\u001b[0;34m\u001b[0m\u001b[0m\n\u001b[0;32m--> 394\u001b[0;31m     \u001b[0mmaybe_arr\u001b[0m \u001b[0;34m=\u001b[0m \u001b[0mself\u001b[0m\u001b[0;34m.\u001b[0m\u001b[0m_numpy\u001b[0m\u001b[0;34m(\u001b[0m\u001b[0;34m)\u001b[0m  \u001b[0;31m# pylint: disable=protected-access\u001b[0m\u001b[0;34m\u001b[0m\u001b[0;34m\u001b[0m\u001b[0m\n\u001b[0m\u001b[1;32m    395\u001b[0m     \u001b[0;32mreturn\u001b[0m \u001b[0mmaybe_arr\u001b[0m\u001b[0;34m.\u001b[0m\u001b[0mcopy\u001b[0m\u001b[0;34m(\u001b[0m\u001b[0;34m)\u001b[0m \u001b[0;32mif\u001b[0m \u001b[0misinstance\u001b[0m\u001b[0;34m(\u001b[0m\u001b[0mmaybe_arr\u001b[0m\u001b[0;34m,\u001b[0m \u001b[0mnp\u001b[0m\u001b[0;34m.\u001b[0m\u001b[0mndarray\u001b[0m\u001b[0;34m)\u001b[0m \u001b[0;32melse\u001b[0m \u001b[0mmaybe_arr\u001b[0m\u001b[0;34m\u001b[0m\u001b[0;34m\u001b[0m\u001b[0m\n\u001b[1;32m    396\u001b[0m \u001b[0;34m\u001b[0m\u001b[0m\n",
      "\u001b[0;32m/usr/local/lib/python3.10/dist-packages/tensorflow/python/framework/ops.py\u001b[0m in \u001b[0;36m_numpy\u001b[0;34m(self)\u001b[0m\n\u001b[1;32m    358\u001b[0m   \u001b[0;32mdef\u001b[0m \u001b[0m_numpy\u001b[0m\u001b[0;34m(\u001b[0m\u001b[0mself\u001b[0m\u001b[0;34m)\u001b[0m\u001b[0;34m:\u001b[0m\u001b[0;34m\u001b[0m\u001b[0;34m\u001b[0m\u001b[0m\n\u001b[1;32m    359\u001b[0m     \u001b[0;32mtry\u001b[0m\u001b[0;34m:\u001b[0m\u001b[0;34m\u001b[0m\u001b[0;34m\u001b[0m\u001b[0m\n\u001b[0;32m--> 360\u001b[0;31m       \u001b[0;32mreturn\u001b[0m \u001b[0mself\u001b[0m\u001b[0;34m.\u001b[0m\u001b[0m_numpy_internal\u001b[0m\u001b[0;34m(\u001b[0m\u001b[0;34m)\u001b[0m\u001b[0;34m\u001b[0m\u001b[0;34m\u001b[0m\u001b[0m\n\u001b[0m\u001b[1;32m    361\u001b[0m     \u001b[0;32mexcept\u001b[0m \u001b[0mcore\u001b[0m\u001b[0;34m.\u001b[0m\u001b[0m_NotOkStatusException\u001b[0m \u001b[0;32mas\u001b[0m \u001b[0me\u001b[0m\u001b[0;34m:\u001b[0m  \u001b[0;31m# pylint: disable=protected-access\u001b[0m\u001b[0;34m\u001b[0m\u001b[0;34m\u001b[0m\u001b[0m\n\u001b[1;32m    362\u001b[0m       \u001b[0;32mraise\u001b[0m \u001b[0mcore\u001b[0m\u001b[0;34m.\u001b[0m\u001b[0m_status_to_exception\u001b[0m\u001b[0;34m(\u001b[0m\u001b[0me\u001b[0m\u001b[0;34m)\u001b[0m \u001b[0;32mfrom\u001b[0m \u001b[0;32mNone\u001b[0m  \u001b[0;31m# pylint: disable=protected-access\u001b[0m\u001b[0;34m\u001b[0m\u001b[0;34m\u001b[0m\u001b[0m\n",
      "\u001b[0;31mKeyboardInterrupt\u001b[0m: "
     ]
    },
    {
     "data": {
      "image/png": "[encoded data removed]",
      "text/plain": [
       "<Figure size 640x480 with 1 Axes>"
      ]
     },
     "metadata": {},
     "output_type": "display_data"
    }
   ],
   "source": [
    "## Cartpole training! ##\n",
    "## Note: stoping and restarting this cell will pick up training where you\n",
    "#        left off. To restart training you need to rerun the cell above as\n",
    "#        well (to re-initialize the model and optimizer)\n",
    "\n",
    "if hasattr(tqdm, '_instances'): tqdm._instances.clear() # clear if it exists\n",
    "for i_episode in range(500):\n",
    "\n",
    "    plotter.plot(smoothed_reward.get())\n",
    "    \n",
    "    # Restart the environment\n",
    "    observation = env.reset()\n",
    "    memory.clear()\n",
    "\n",
    "    while True:\n",
    "        # using our observation, choose an action and take it in the environment\n",
    "        action = choose_action(cartpole_model, observation)\n",
    "        result = env.step(action)\n",
    "        print(f\"Result of env.step(action): {result}\")\n",
    "\n",
    "        # Handle the returned values\n",
    "        next_observation, reward, done, info = result\n",
    "        # add to memory\n",
    "        memory.add_to_memory(observation, action, reward)\n",
    "\n",
    "        # is the episode over? did you crash or do so well that you're done?\n",
    "        if done:\n",
    "            # determine total reward and keep a record of this\n",
    "            total_reward = sum(memory.rewards)\n",
    "            smoothed_reward.append(total_reward)\n",
    "\n",
    "            # initiate training - remember we don't know anything about how the\n",
    "            #   agent is doing until it has crashed!\n",
    "\n",
    "            try:\n",
    "            # Perform training step\n",
    "                g = train_step(cartpole_model, compute_loss, optimizer,\n",
    "                                observations=np.vstack(memory.observations),\n",
    "                                actions=np.array(memory.actions),\n",
    "                                discounted_rewards=discount_rewards(memory.rewards))\n",
    "            except ValueError as e:\n",
    "                print(f\"ValueError during training: {e}\")\n",
    "\n",
    "            # reset the memory\n",
    "            memory.clear()\n",
    "            break\n",
    "        # update our observatons\n",
    "        observation = next_observation"
   ]
  },
  {
   "cell_type": "code",
   "execution_count": null,
   "metadata": {
    "colab": {
     "base_uri": "https://localhost:8080/",
     "height": 1000
    },
    "id": "uI-B__XUxJiT",
    "outputId": "cbe763e6-fa26-4b92-f471-5026bff2bccb"
   },
   "outputs": [
    {
     "name": "stderr",
     "output_type": "stream",
     "text": [
      "/usr/local/lib/python3.10/dist-packages/ipykernel/ipkernel.py:283: DeprecationWarning: `should_run_async` will not call `transform_cell` automatically in the future. Please pass the result to `transformed_cell` argument and any exception that happen during thetransform in `preprocessing_exc_tuple` in IPython 7.17 and above.\n",
      "  and should_run_async(code)\n"
     ]
    },
    {
     "name": "stdout",
     "output_type": "stream",
     "text": [
      "\r",
      "0% [Working]\r",
      "            \r",
      "Hit:1 https://cloud.r-project.org/bin/linux/ubuntu jammy-cran40/ InRelease\n",
      "\r",
      "0% [Connecting to archive.ubuntu.com (91.189.91.81)] [Connecting to security.ubuntu.com] [Connected \r",
      "                                                                                                    \r",
      "Hit:2 https://developer.download.nvidia.com/compute/cuda/repos/ubuntu2204/x86_64  InRelease\n",
      "Hit:3 http://archive.ubuntu.com/ubuntu jammy InRelease\n",
      "Hit:4 http://security.ubuntu.com/ubuntu jammy-security InRelease\n",
      "Ign:5 https://r2u.stat.illinois.edu/ubuntu jammy InRelease\n",
      "Hit:6 http://archive.ubuntu.com/ubuntu jammy-updates InRelease\n",
      "Hit:7 https://r2u.stat.illinois.edu/ubuntu jammy Release\n",
      "Hit:8 http://archive.ubuntu.com/ubuntu jammy-backports InRelease\n",
      "Hit:9 https://ppa.launchpadcontent.net/deadsnakes/ppa/ubuntu jammy InRelease\n",
      "Hit:10 https://ppa.launchpadcontent.net/graphics-drivers/ppa/ubuntu jammy InRelease\n",
      "Hit:12 https://ppa.launchpadcontent.net/ubuntugis/ppa/ubuntu jammy InRelease\n",
      "Reading package lists... Done\n",
      "W: Skipping acquire of configured file 'main/source/Sources' as repository 'https://r2u.stat.illinois.edu/ubuntu jammy InRelease' does not seem to provide it (sources.list entry misspelt?)\n",
      "Reading package lists... Done\n",
      "Building dependency tree... Done\n",
      "Reading state information... Done\n",
      "xvfb is already the newest version (2:21.1.4-2ubuntu1.7~22.04.11).\n",
      "0 upgraded, 0 newly installed, 0 to remove and 47 not upgraded.\n"
     ]
    },
    {
     "name": "stderr",
     "output_type": "stream",
     "text": [
      "/usr/local/lib/python3.10/dist-packages/gym/core.py:317: DeprecationWarning: \u001b[33mWARN: Initializing wrapper in old step API which returns one bool instead of two. It is recommended to set `new_step_api=True` to use new step API. This will be the default behaviour in future.\u001b[0m\n",
      "  deprecation(\n",
      "/usr/local/lib/python3.10/dist-packages/gym/wrappers/step_api_compatibility.py:39: DeprecationWarning: \u001b[33mWARN: Initializing environment in old step API which returns one bool instead of two. It is recommended to set `new_step_api=True` to use new step API. This will be the default behaviour in future.\u001b[0m\n",
      "  deprecation(\n",
      "/usr/local/lib/python3.10/dist-packages/gym/core.py:43: DeprecationWarning: \u001b[33mWARN: The argument mode in render method is deprecated; use render_mode during environment initialization instead.\n",
      "See here for more information: https://www.gymlibrary.ml/content/api/\u001b[0m\n",
      "  deprecation(\n",
      "/usr/local/lib/python3.10/dist-packages/skvideo/io/abstract.py:514: DeprecationWarning: tostring() is deprecated. Use tobytes() instead.\n",
      "  self._proc.stdin.write(vid.tostring())\n",
      "/usr/local/lib/python3.10/dist-packages/gym/utils/passive_env_checker.py:241: DeprecationWarning: `np.bool8` is a deprecated alias for `np.bool_`.  (Deprecated NumPy 1.24)\n",
      "  if not isinstance(terminated, (bool, np.bool8)):\n"
     ]
    },
    {
     "name": "stdout",
     "output_type": "stream",
     "text": [
      "Successfully saved 500 frames into CartPole-v1.mp4!\n"
     ]
    },
    {
     "data": {
      "text/html": [
       "\n",
       "        <video controls >\n",
       "            <source src=\"data:video/mp4;base64,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\" type=\"video/mp4\" />\n",
       "        </video>"
      ],
      "text/plain": [
       "<IPython.core.display.HTML object>"
      ]
     },
     "execution_count": 23,
     "metadata": {},
     "output_type": "execute_result"
    }
   ],
   "source": [
    "matplotlib.use('Agg')\n",
    "!apt-get update\n",
    "!apt-get install -y xvfb\n",
    "saved_cartpole = mdl.lab3_old.save_video_of_model(cartpole_model, \"CartPole-v1\")\n",
    "mdl.lab3_old.play_video(saved_cartpole)"
   ]
  }
 ],
 "metadata": {
  "accelerator": "GPU",
  "colab": {
   "gpuType": "T4",
   "provenance": []
  },
  "kernelspec": {
   "display_name": "Python 3 (ipykernel)",
   "language": "python",
   "name": "python3"
  },
  "language_info": {
   "codemirror_mode": {
    "name": "ipython",
    "version": 3
   },
   "file_extension": ".py",
   "mimetype": "text/x-python",
   "name": "python",
   "nbconvert_exporter": "python",
   "pygments_lexer": "ipython3",
   "version": "3.9.6"
  }
 },
 "nbformat": 4,
 "nbformat_minor": 4
}
