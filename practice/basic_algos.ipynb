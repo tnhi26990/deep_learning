{
 "cells": [
  {
   "cell_type": "code",
   "execution_count": 57,
   "id": "370c7595-8d7e-4c36-a176-dbbee58dff89",
   "metadata": {},
   "outputs": [
    {
     "name": "stdout",
     "output_type": "stream",
     "text": [
      "[[0.7213212 0.       ]]\n"
     ]
    }
   ],
   "source": [
    "import tensorflow as tf\n",
    "import os \n",
    "os.environ['TF_CPP_MIN_LOG_LEVEL'] = '1'\n",
    "import numpy as np\n",
    "import matplotlib.pyplot as plt\n",
    "## Building a deep neural network\n",
    "def build_model(units, input_dim):\n",
    "    model = tf.keras.Sequential([\n",
    "        tf.keras.layers.Dense(units=units, activation='sigmoid', use_bias=True, bias_initializer='zeros', input_shape=(input_dim,)),\n",
    "        tf.keras.layers.Dense(units=units-1, activation='relu')])\n",
    "    return model\n",
    "\n",
    "model = build_model(3,2)\n",
    "model_output= model(tf.constant([[1,2.]], shape=(1,2))).numpy()\n",
    "print(model_output)"
   ]
  },
  {
   "cell_type": "code",
   "execution_count": 69,
   "id": "63bb5a98-c498-4d1c-bb1d-2617ea1d018e",
   "metadata": {},
   "outputs": [
    {
     "name": "stdout",
     "output_type": "stream",
     "text": [
      "tf.Tensor(56.0, shape=(), dtype=float32)\n",
      "Initializing x=[0.0469774]\n"
     ]
    },
    {
     "data": {
      "text/plain": [
       "Text(0, 0.5, 'p value')"
      ]
     },
     "execution_count": 69,
     "metadata": {},
     "output_type": "execute_result"
    },
    {
     "data": {
      "image/png": "[encoded data removed]",
      "text/plain": [
       "<Figure size 640x480 with 1 Axes>"
      ]
     },
     "metadata": {},
     "output_type": "display_data"
    }
   ],
   "source": [
    "## Computing loss\n",
    "\n",
    "# Gradient Descent\n",
    "\n",
    "x= tf.Variable(4.0)\n",
    "\n",
    "with tf.GradientTape() as tape:\n",
    "    y = x**3 + x**2\n",
    "    \n",
    "dy_dx = tape.gradient(y, x)\n",
    "\n",
    "print(dy_dx)\n",
    "\n",
    "p = tf.Variable(tf.random.uniform([1], minval=0, maxval=1))\n",
    "print(\"Initializing x={}\".format(p.numpy()))\n",
    "\n",
    "learning_rate = 1e-2 # learning rate for SGD\n",
    "history = []\n",
    "\n",
    "y = 0.5\n",
    "\n",
    "for i in range(500):\n",
    "    with tf.GradientTape() as tape:\n",
    "        loss = - (y * tf.math.log(p) + (1 - y) * tf.math.log(1 - p))\n",
    "    grad = tape.gradient(loss, p)\n",
    "    new_p = p - learning_rate*grad\n",
    "    p.assign(new_p)\n",
    "    history.append(p.numpy()[0])\n",
    "\n",
    "# Plot the evolution of x as we optimize towards x_f!\n",
    "plt.plot(history)\n",
    "plt.plot([0, 500],[y,p])\n",
    "plt.legend(('Predicted', 'True'))\n",
    "plt.xlabel('Iteration')\n",
    "plt.ylabel('p value')"
   ]
  },
  {
   "cell_type": "code",
   "execution_count": 72,
   "id": "d84c2fd0-3c4d-491c-ba6c-d9704aca91bd",
   "metadata": {},
   "outputs": [],
   "source": [
    "## RNN\n",
    "import functools\n",
    "from IPython import display as ipythondisplay\n",
    "from tqdm import tqdm\n",
    "from scipy.io.wavfile import write\n",
    "import mitdeeplearning as mdl"
   ]
  },
  {
   "cell_type": "code",
   "execution_count": 73,
   "id": "6b0e65b0-ca74-4756-9d31-7c4d1e1d28e5",
   "metadata": {},
   "outputs": [
    {
     "name": "stdout",
     "output_type": "stream",
     "text": [
      "Found 817 songs in text\n"
     ]
    }
   ],
   "source": [
    "songs = mdl.lab1.load_training_data()"
   ]
  },
  {
   "cell_type": "code",
   "execution_count": 74,
   "id": "d79141f3-a2b0-4ee2-9fec-9d2917c18ebf",
   "metadata": {},
   "outputs": [
    {
     "name": "stdout",
     "output_type": "stream",
     "text": [
      "X:1\n",
      "T:Alexander's\n",
      "Z: id:dc-hornpipe-1\n",
      "M:C|\n",
      "L:1/8\n",
      "K:D Major\n",
      "(3ABc|dAFA DFAd|fdcd FAdf|gfge fefd|(3efe (3dcB A2 (3ABc|!\n",
      "dAFA DFAd|fdcd FAdf|gfge fefd|(3efe dc d2:|!\n",
      "AG|FAdA FAdA|GBdB GBdB|Acec Acec|dfaf gecA|!\n",
      "FAdA FAdA|GBdB GBdB|Aceg fefd|(3efe dc d2:|!\n"
     ]
    }
   ],
   "source": [
    "example_song = songs[0]\n",
    "print(example_song)"
   ]
  },
  {
   "cell_type": "code",
   "execution_count": 91,
   "id": "6f89b6a2-fa27-4d37-86ac-9ba52483599a",
   "metadata": {},
   "outputs": [
    {
     "name": "stdout",
     "output_type": "stream",
     "text": [
      "83\n",
      " '\\n' - 0\n",
      " ' ' - 1\n",
      " '!' - 2\n",
      " '\"' - 3\n",
      " '#' - 4\n",
      " \"'\" - 5\n",
      " '(' - 6\n",
      " ')' - 7\n",
      " ',' - 8\n",
      " '-' - 9\n",
      "\n",
      "\n",
      "\n",
      "\n"
     ]
    }
   ],
   "source": [
    "## Embedding: transform language into a numerical vector of fixed size since neural networks cannot intepret words\n",
    "\n",
    "# First joining all the songs into a single string\n",
    "songs_joined = \"\\n\\n\".join(songs)\n",
    "# Then we need to find all the unique characters in the string by removing duplicates and sort the characters\n",
    "vocab = sorted(set(songs_joined))\n",
    "print(len(vocab))\n",
    "\n",
    "# Create a mapping from characters to indices\n",
    "char2idx = {u:i for i, u in enumerate(vocab)}\n",
    "for i, u in zip(char2idx, range(10)):\n",
    "    print(\" {} - {}\".format(repr(i), u))"
   ]
  },
  {
   "cell_type": "code",
   "execution_count": 104,
   "id": "d4ba84f2-4e18-40d8-b886-514d15171ee4",
   "metadata": {},
   "outputs": [
    {
     "name": "stdout",
     "output_type": "stream",
     "text": [
      "'\\n'\n",
      "' '\n",
      "'!'\n",
      "'\"'\n",
      "'#'\n",
      "\"'\"\n",
      "'('\n",
      "')'\n",
      "','\n",
      "'-'\n"
     ]
    }
   ],
   "source": [
    "# Create a mapping from indices to characters\n",
    "idx2char = np.array(vocab)\n",
    "for i, _ in zip(idx2char, range(10)):\n",
    "    print(\"{}\".format(repr(i)))"
   ]
  },
  {
   "cell_type": "code",
   "execution_count": 105,
   "id": "6d403a9e-b29b-47d5-8376-f17514dd14f2",
   "metadata": {},
   "outputs": [],
   "source": [
    "# Vectorize the songs string\n",
    "\n",
    "def vectorize_string(string):\n",
    "    vectorize_output = np.array([char2idx[char] for char in string])\n",
    "    return vectorize_output\n",
    "\n",
    "vectorize_songs = vectorize_string(songs_joined)"
   ]
  },
  {
   "cell_type": "code",
   "execution_count": 115,
   "id": "7f600be8-a016-4850-bbc8-7c2aae2890f5",
   "metadata": {},
   "outputs": [
    {
     "name": "stdout",
     "output_type": "stream",
     "text": [
      "49 - 'X'\n",
      "22 - ':'\n",
      "13 - '1'\n",
      "0 - '\\n'\n",
      "45 - 'T'\n",
      "22 - ':'\n",
      "26 - 'A'\n",
      "67 - 'l'\n",
      "60 - 'e'\n",
      "79 - 'x'\n"
     ]
    }
   ],
   "source": [
    "for i, _ in zip(vectorize_songs, range(10)):\n",
    "    print(\"{} - {}\".format(repr(i), repr(songs_joined[_])))"
   ]
  },
  {
   "cell_type": "code",
   "execution_count": null,
   "id": "f24197df-b54b-411b-a8aa-8ee042198fa5",
   "metadata": {},
   "outputs": [],
   "source": []
  },
  {
   "cell_type": "code",
   "execution_count": null,
   "id": "c60158a2-6d32-40ee-974a-5c735ab9eb43",
   "metadata": {},
   "outputs": [],
   "source": []
  }
 ],
 "metadata": {
  "kernelspec": {
   "display_name": "Python 3 (ipykernel)",
   "language": "python",
   "name": "python3"
  },
  "language_info": {
   "codemirror_mode": {
    "name": "ipython",
    "version": 3
   },
   "file_extension": ".py",
   "mimetype": "text/x-python",
   "name": "python",
   "nbconvert_exporter": "python",
   "pygments_lexer": "ipython3",
   "version": "3.9.6"
  }
 },
 "nbformat": 4,
 "nbformat_minor": 5
}
