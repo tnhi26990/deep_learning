{
 "cells": [
  {
   "cell_type": "code",
   "execution_count": 47,
   "id": "370c7595-8d7e-4c36-a176-dbbee58dff89",
   "metadata": {},
   "outputs": [
    {
     "name": "stdout",
     "output_type": "stream",
     "text": [
      "[[0.42393225 0.39810178]]\n"
     ]
    }
   ],
   "source": [
    "import tensorflow as tf\n",
    "import os \n",
    "os.environ['TF_CPP_MIN_LOG_LEVEL'] = '1'\n",
    "import numpy as np\n",
    "\n",
    "## Building a deep neural network\n",
    "def build_model(units, input_dim):\n",
    "    model = tf.keras.Sequential([\n",
    "        tf.keras.layers.Dense(units=units, activation='sigmoid', use_bias=True, bias_initializer='zeros', input_shape=(input_dim,)),\n",
    "        tf.keras.layers.Dense(units=units-1, activation='sigmoid')])\n",
    "    return model\n",
    "\n",
    "model = build_model(3,2)\n",
    "model_output= model(tf.constant([[1,2.]], shape=(1,2))).numpy()\n",
    "print(model_output)"
   ]
  },
  {
   "cell_type": "code",
   "execution_count": null,
   "id": "281c7ef6-fa29-4ce0-a2dc-c1ea0ea65a82",
   "metadata": {},
   "outputs": [],
   "source": [
    "## Computing loss\n",
    "\n",
    "# Gradient compute "
   ]
  }
 ],
 "metadata": {
  "kernelspec": {
   "display_name": "Python 3 (ipykernel)",
   "language": "python",
   "name": "python3"
  },
  "language_info": {
   "codemirror_mode": {
    "name": "ipython",
    "version": 3
   },
   "file_extension": ".py",
   "mimetype": "text/x-python",
   "name": "python",
   "nbconvert_exporter": "python",
   "pygments_lexer": "ipython3",
   "version": "3.9.6"
  }
 },
 "nbformat": 4,
 "nbformat_minor": 5
}
