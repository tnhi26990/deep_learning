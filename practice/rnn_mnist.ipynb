{
 "cells": [
  {
   "cell_type": "code",
   "execution_count": null,
   "id": "1ef4fa10-7c62-4e98-ad20-8b34897b3dc1",
   "metadata": {},
   "outputs": [],
   "source": [
    "### Build a deep neural network for handwritten digit classification\n",
    "\n",
    "import tensorflow as tf\n",
    "import matplotlib.pyplot as plt\n",
    "import numpy as np"
   ]
  },
  {
   "cell_type": "code",
   "execution_count": null,
   "id": "00d66455-1489-47e4-9ba6-f685076fd401",
   "metadata": {},
   "outputs": [],
   "source": [
    "mnist = tf.keras.datasets.mnist"
   ]
  },
  {
   "cell_type": "code",
   "execution_count": null,
   "id": "77b5508c-8be0-4708-bd27-50ae6b25d891",
   "metadata": {},
   "outputs": [],
   "source": [
    "(x_train, y_train), (x_test, y_test) = mnist.load_data()\n",
    "print(x_train.shape)\n",
    "plt.imshow(x_train[1], cmap=plt.cm.binary)\n",
    "plt.show()\n",
    "    \n",
    "x_train = (np.expand_dims(x_train, axis = -1)/ 255.).astype(np.float32)\n",
    "print(x_train.shape)\n",
    "x_train_flatten = tf.keras.layers.Flatten()(x_train)\n",
    "print(x_train_flatten.shape)\n",
    "x_test = (np.expand_dims(x_test, axis = -1)/ 255.).astype(np.float32)"
   ]
  },
  {
   "cell_type": "code",
   "execution_count": null,
   "id": "d1f880e1-3cfe-47f0-b7e8-55cdbf91284d",
   "metadata": {},
   "outputs": [],
   "source": [
    "model = tf.keras.Sequential([\n",
    "    tf.keras.layers.Flatten(),\n",
    "    tf.keras.layers.Dense(128, activation='relu'),\n",
    "    tf.keras.layers.Dense(128, activation='relu'),\n",
    "    tf.keras.layers.Dense(10, activation='softmax')\n",
    "])"
   ]
  },
  {
   "cell_type": "code",
   "execution_count": null,
   "id": "763ddbb5-12a6-4c0c-bcad-bbc47148545f",
   "metadata": {},
   "outputs": [],
   "source": [
    "model.compile(optimizer='adam',\n",
    "              loss ='sparse_categorical_crossentropy',\n",
    "              metrics=['accuracy'])"
   ]
  },
  {
   "cell_type": "code",
   "execution_count": null,
   "id": "33ac0980-ac09-4c2f-85c5-3de68b2932c3",
   "metadata": {},
   "outputs": [],
   "source": [
    "model.fit(x_train, y_train, epochs=5)"
   ]
  },
  {
   "cell_type": "code",
   "execution_count": null,
   "id": "438e1ce7-fcb9-4142-98ac-120d5ed449f7",
   "metadata": {},
   "outputs": [],
   "source": [
    "test_loss, test_acc = model.evaluate(x_test, y_test)\n",
    "print(test_loss, test_acc)"
   ]
  },
  {
   "cell_type": "code",
   "execution_count": null,
   "id": "2dfd7c3a-3cb2-4621-bead-660706c4dabf",
   "metadata": {},
   "outputs": [],
   "source": [
    "prediction = model.predict(x_test)"
   ]
  },
  {
   "cell_type": "code",
   "execution_count": null,
   "id": "96ebeff2-c544-442d-b398-44c6ce9be97e",
   "metadata": {},
   "outputs": [],
   "source": [
    "print(np.argmax(prediction[1]))"
   ]
  },
  {
   "cell_type": "code",
   "execution_count": null,
   "id": "b6fe8261-0f37-4eb0-b6a7-cf853b35638a",
   "metadata": {},
   "outputs": [],
   "source": [
    "print(y_test[1])"
   ]
  },
  {
   "cell_type": "code",
   "execution_count": null,
   "id": "723e8b28-28dd-4042-9116-cbf199c3f461",
   "metadata": {},
   "outputs": [],
   "source": [
    "for u, i in zip(prediction, range(9)):\n",
    "    print(np.argmax(prediction[i]))"
   ]
  },
  {
   "cell_type": "code",
   "execution_count": null,
   "id": "41eac533-d220-4dd6-bb87-ead3a4fcfb4c",
   "metadata": {},
   "outputs": [],
   "source": [
    "plt.figure(figsize=(10,10))\n",
    "for i in range(9):\n",
    "    plt.subplot(3,3,i+1)\n",
    "    plt.xticks([])\n",
    "    plt.yticks([])\n",
    "    plt.grid(False)\n",
    "    plt.imshow(np.squeeze(x_test[i]), cmap=plt.cm.binary)"
   ]
  }
 ],
 "metadata": {
  "kernelspec": {
   "display_name": "Python 3 (ipykernel)",
   "language": "python",
   "name": "python3"
  },
  "language_info": {
   "codemirror_mode": {
    "name": "ipython",
    "version": 3
   },
   "file_extension": ".py",
   "mimetype": "text/x-python",
   "name": "python",
   "nbconvert_exporter": "python",
   "pygments_lexer": "ipython3",
   "version": "3.9.6"
  }
 },
 "nbformat": 4,
 "nbformat_minor": 5
}
